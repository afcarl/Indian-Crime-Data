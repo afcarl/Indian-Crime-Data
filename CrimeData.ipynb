{
 "cells": [
  {
   "cell_type": "code",
   "execution_count": 31,
   "metadata": {
    "collapsed": false
   },
   "outputs": [
    {
     "name": "stdout",
     "output_type": "stream",
     "text": [
      "       States/UTs          District  Year  Murder  Attempt to commit Murder  \\\n",
      "0  Andhra Pradesh         Anantapur  2014     134                       171   \n",
      "1  Andhra Pradesh          Chittoor  2014      84                       170   \n",
      "2  Andhra Pradesh          Cuddapah  2014      80                       162   \n",
      "3  Andhra Pradesh     East Godavari  2014      64                        84   \n",
      "4  Andhra Pradesh  Guntakal Railway  2014      14                         4   \n",
      "\n",
      "   Culpable Homicide not amounting to Murder  \\\n",
      "0                                          8   \n",
      "1                                          2   \n",
      "2                                          1   \n",
      "3                                          2   \n",
      "4                                          0   \n",
      "\n",
      "   Attempt to commit Culpable Homicide  Rape  Custodial Rape  \\\n",
      "0                                    0    35               0   \n",
      "1                                    0    32               0   \n",
      "2                                    0    28               0   \n",
      "3                                    0    85               0   \n",
      "4                                    0     0               0   \n",
      "\n",
      "   Custodial_Gang Rape             ...               \\\n",
      "0                    0             ...                \n",
      "1                    0             ...                \n",
      "2                    0             ...                \n",
      "3                    0             ...                \n",
      "4                    0             ...                \n",
      "\n",
      "   Offences promoting enmity between different groups  \\\n",
      "0                                                  0    \n",
      "1                                                  0    \n",
      "2                                                  0    \n",
      "3                                                  0    \n",
      "4                                                  0    \n",
      "\n",
      "   Promoting enmity between different groups  \\\n",
      "0                                          0   \n",
      "1                                          0   \n",
      "2                                          0   \n",
      "3                                          0   \n",
      "4                                          0   \n",
      "\n",
      "   Imputation, assertions prejudicial to national integration  Extortion  \\\n",
      "0                                                  0                   0   \n",
      "1                                                  0                  19   \n",
      "2                                                  0                   0   \n",
      "3                                                  0                  32   \n",
      "4                                                  0                   0   \n",
      "\n",
      "   Disclosure of Identity of Victims  Incidence of Rash Driving  \\\n",
      "0                                  0                       1038   \n",
      "1                                  0                        249   \n",
      "2                                  0                        948   \n",
      "3                                  0                         39   \n",
      "4                                  0                          1   \n",
      "\n",
      "   HumanTrafficking  Unnatural Offence  Other IPC crimes  \\\n",
      "0                 0                  0              3800   \n",
      "1                 0                  0              2567   \n",
      "2                 0                  0              2604   \n",
      "3                 0                  0              3791   \n",
      "4                 0                  0                37   \n",
      "\n",
      "   Total Cognizable IPC crimes  \n",
      "0                         8376  \n",
      "1                         5374  \n",
      "2                         5803  \n",
      "3                         7630  \n",
      "4                          490  \n",
      "\n",
      "[5 rows x 91 columns]\n"
     ]
    }
   ],
   "source": [
    "import pandas as pd\n",
    "import numpy as np\n",
    "data = pd.read_csv(\"crime_data.csv\")\n",
    "print(data.head())"
   ]
  },
  {
   "cell_type": "code",
   "execution_count": 10,
   "metadata": {
    "collapsed": false
   },
   "outputs": [],
   "source": [
    "data[\"Rape\"] = data[\"Rape\"] + data[\"Custodial Rape\"] + data[\"Custodial_Gang Rape\"]\n",
    "drop_tables = [\"Custodial_Gang Rape\", \"Custodial Rape\", \"Rape other than Custodial\"]\n",
    "data = data.drop(drop_tables, axis=1)"
   ]
  },
  {
   "cell_type": "code",
   "execution_count": 5,
   "metadata": {
    "collapsed": false
   },
   "outputs": [
    {
     "name": "stdout",
     "output_type": "stream",
     "text": [
      "       States/UTs          District  Year  Murder  Attempt to commit Murder  \\\n",
      "0  Andhra Pradesh         Anantapur  2014     134                       171   \n",
      "1  Andhra Pradesh          Chittoor  2014      84                       170   \n",
      "2  Andhra Pradesh          Cuddapah  2014      80                       162   \n",
      "3  Andhra Pradesh     East Godavari  2014      64                        84   \n",
      "4  Andhra Pradesh  Guntakal Railway  2014      14                         4   \n",
      "\n",
      "   Culpable Homicide not amounting to Murder  \\\n",
      "0                                          8   \n",
      "1                                          2   \n",
      "2                                          1   \n",
      "3                                          2   \n",
      "4                                          0   \n",
      "\n",
      "   Attempt to commit Culpable Homicide  Rape  Custodial_Other Rape  \\\n",
      "0                                    0    35                     0   \n",
      "1                                    0    32                     0   \n",
      "2                                    0    28                     0   \n",
      "3                                    0    85                     0   \n",
      "4                                    0     0                     0   \n",
      "\n",
      "   Rape other than Custodial             ...               \\\n",
      "0                         35             ...                \n",
      "1                         32             ...                \n",
      "2                         28             ...                \n",
      "3                         85             ...                \n",
      "4                          0             ...                \n",
      "\n",
      "   Offences promoting enmity between different groups  \\\n",
      "0                                                  0    \n",
      "1                                                  0    \n",
      "2                                                  0    \n",
      "3                                                  0    \n",
      "4                                                  0    \n",
      "\n",
      "   Promoting enmity between different groups  \\\n",
      "0                                          0   \n",
      "1                                          0   \n",
      "2                                          0   \n",
      "3                                          0   \n",
      "4                                          0   \n",
      "\n",
      "   Imputation, assertions prejudicial to national integration  Extortion  \\\n",
      "0                                                  0                   0   \n",
      "1                                                  0                  19   \n",
      "2                                                  0                   0   \n",
      "3                                                  0                  32   \n",
      "4                                                  0                   0   \n",
      "\n",
      "   Disclosure of Identity of Victims  Incidence of Rash Driving  \\\n",
      "0                                  0                       1038   \n",
      "1                                  0                        249   \n",
      "2                                  0                        948   \n",
      "3                                  0                         39   \n",
      "4                                  0                          1   \n",
      "\n",
      "   HumanTrafficking  Unnatural Offence  Other IPC crimes  \\\n",
      "0                 0                  0              3800   \n",
      "1                 0                  0              2567   \n",
      "2                 0                  0              2604   \n",
      "3                 0                  0              3791   \n",
      "4                 0                  0                37   \n",
      "\n",
      "   Total Cognizable IPC crimes  \n",
      "0                         8376  \n",
      "1                         5374  \n",
      "2                         5803  \n",
      "3                         7630  \n",
      "4                          490  \n",
      "\n",
      "[5 rows x 89 columns]\n"
     ]
    }
   ],
   "source": [
    "print(data.head())"
   ]
  },
  {
   "cell_type": "code",
   "execution_count": 17,
   "metadata": {
    "collapsed": false
   },
   "outputs": [
    {
     "name": "stdout",
     "output_type": "stream",
     "text": [
      "{'Andhra Pradesh': 2350, 'Arunachal Pradesh': 172, 'Assam': 2902, 'Bihar': 6806, 'Chhattisgarh': 1996, 'Goa': 68, 'Gujarat': 2248, 'Haryana': 2212, 'Himachal Pradesh': 260, 'Jammu & Kashmir': 312, 'Jharkhand': 3316, 'Karnataka': 3272, 'Kerala': 734, 'Madhya Pradesh': 4548, 'Maharashtra': 5340, 'Manipur': 192, 'Meghalaya': 318, 'Mizoram': 84, 'Nagaland': 116, 'Odisha': 2900, 'Punjab': 1534, 'Rajasthan': 3274, 'Sikkim': 24, 'Tamil Nadu': 3610, 'Telangana': 2616, 'Tripura': 280, 'Uttar Pradesh': 10300, 'Uttarakhand': 436, 'West Bengal': 4740, 'A&N Islands': 16, 'Chandigarh': 48, 'D&N Haveli': 8, 'Daman & Diu': 14, 'Delhi UT': 1172, 'Lakshadweep': 0, 'Puducherry': 50}\n"
     ]
    }
   ],
   "source": [
    "data_states = data[\"States/UTs\"].unique()\n",
    "murder_by_state={}\n",
    "for state in data_states:\n",
    "    data_state = data[data[\"States/UTs\"] == state]\n",
    "    total_murder = data_state[\"Murder\"].sum()\n",
    "    murder_by_state[state] = total_murder\n",
    "print(murder_by_state)"
   ]
  },
  {
   "cell_type": "code",
   "execution_count": 37,
   "metadata": {
    "collapsed": false
   },
   "outputs": [
    {
     "name": "stdout",
     "output_type": "stream",
     "text": [
      "States/UTs\n",
      "A&N Islands            3.162278\n",
      "Andhra Pradesh       246.113166\n",
      "Arunachal Pradesh     18.599377\n",
      "Assam                261.238661\n",
      "Bihar                488.862506\n",
      "Chandigarh             0.000000\n",
      "Chhattisgarh         179.626213\n",
      "D&N Haveli             0.000000\n",
      "Daman & Diu            3.214550\n",
      "Delhi UT             127.905146\n",
      "Goa                   14.094916\n",
      "Gujarat              170.149180\n",
      "Haryana              213.522466\n",
      "Himachal Pradesh      31.118055\n",
      "Jammu & Kashmir       27.581317\n",
      "Jharkhand            309.212652\n",
      "Karnataka            264.211567\n",
      "Kerala                75.021613\n",
      "Lakshadweep            0.000000\n",
      "Madhya Pradesh       299.304267\n",
      "Maharashtra          382.899893\n",
      "Manipur               26.699677\n",
      "Meghalaya             42.391037\n",
      "Mizoram               12.393547\n",
      "Nagaland              16.461157\n",
      "Odisha               232.851330\n",
      "Puducherry             9.712535\n",
      "Punjab               138.062446\n",
      "Rajasthan            244.705613\n",
      "Sikkim                 4.690416\n",
      "Tamil Nadu           270.446716\n",
      "Telangana            327.669359\n",
      "Tripura               40.797603\n",
      "Uttar Pradesh        580.897035\n",
      "Uttarakhand           58.125669\n",
      "West Bengal          414.968381\n",
      "Name: Murder, dtype: float64\n"
     ]
    }
   ],
   "source": [
    "new_table = data.pivot_table(index=\"States/UTs\", values=\"Murder\",aggfunc=np.std)\n",
    "print(new_table)"
   ]
  },
  {
   "cell_type": "code",
   "execution_count": 29,
   "metadata": {
    "collapsed": false
   },
   "outputs": [],
   "source": [
    "new_table[\"At Office premises\"] = new_table[\"At Office premises\"].apply(lambda x: x*100)"
   ]
  },
  {
   "cell_type": "markdown",
   "metadata": {},
   "source": [
    "print(new_table.head())"
   ]
  },
  {
   "cell_type": "markdown",
   "metadata": {},
   "source": [
    "## Use of Matplotlib "
   ]
  },
  {
   "cell_type": "code",
   "execution_count": 39,
   "metadata": {
    "collapsed": false
   },
   "outputs": [
    {
     "data": {
      "image/png": "[encoded data removed]",
      "text/plain": [
       "<matplotlib.figure.Figure at 0x10fc4cef0>"
      ]
     },
     "metadata": {},
     "output_type": "display_data"
    }
   ],
   "source": [
    "import matplotlib.pyplot as plt\n",
    "%matplotlib inline\n",
    "plt.plot()\n",
    "plt.show()"
   ]
  },
  {
   "cell_type": "code",
   "execution_count": 42,
   "metadata": {
    "collapsed": false
   },
   "outputs": [
    {
     "name": "stdout",
     "output_type": "stream",
     "text": [
      "Index(['A&N Islands', 'Andhra Pradesh', 'Arunachal Pradesh', 'Assam', 'Bihar',\n",
      "       'Chandigarh', 'Chhattisgarh', 'D&N Haveli', 'Daman & Diu', 'Delhi UT',\n",
      "       'Goa', 'Gujarat', 'Haryana', 'Himachal Pradesh', 'Jammu & Kashmir',\n",
      "       'Jharkhand', 'Karnataka', 'Kerala', 'Lakshadweep', 'Madhya Pradesh',\n",
      "       'Maharashtra', 'Manipur', 'Meghalaya', 'Mizoram', 'Nagaland', 'Odisha',\n",
      "       'Puducherry', 'Punjab', 'Rajasthan', 'Sikkim', 'Tamil Nadu',\n",
      "       'Telangana', 'Tripura', 'Uttar Pradesh', 'Uttarakhand', 'West Bengal'],\n",
      "      dtype='object', name='States/UTs')\n"
     ]
    }
   ],
   "source": [
    "x_values = new_table.index\n",
    "print(x_values)"
   ]
  },
  {
   "cell_type": "code",
   "execution_count": 47,
   "metadata": {
    "collapsed": false
   },
   "outputs": [
    {
     "data": {
      "image/png": "[encoded data removed]",
      "text/plain": [
       "<matplotlib.figure.Figure at 0x113d90400>"
      ]
     },
     "metadata": {},
     "output_type": "display_data"
    }
   ],
   "source": [
    "x_values = data[\"Total Cognizable IPC crimes\"].head(12)\n",
    "y_values = data[\"Murder\"].head(12)\n",
    "plt.plot(x_values, y_values)\n",
    "plt.xlabel(\"Total Cognizable IPC crimes\")\n",
    "plt.ylabel(\"Murders\")\n",
    "plt.title(\"Crime Data 2014\")\n",
    "plt.show()\n"
   ]
  },
  {
   "cell_type": "code",
   "execution_count": null,
   "metadata": {
    "collapsed": true
   },
   "outputs": [],
   "source": []
  }
 ],
 "metadata": {
  "kernelspec": {
   "display_name": "Python 3",
   "language": "python",
   "name": "python3"
  },
  "language_info": {
   "codemirror_mode": {
    "name": "ipython",
    "version": 3
   },
   "file_extension": ".py",
   "mimetype": "text/x-python",
   "name": "python",
   "nbconvert_exporter": "python",
   "pygments_lexer": "ipython3",
   "version": "3.6.0"
  }
 },
 "nbformat": 4,
 "nbformat_minor": 2
}
