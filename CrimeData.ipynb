{
 "cells": [
  {
   "cell_type": "code",
   "execution_count": 31,
   "metadata": {
    "collapsed": false
   },
   "outputs": [
    {
     "name": "stdout",
     "output_type": "stream",
     "text": [
      "       States/UTs          District  Year  Murder  Attempt to commit Murder  \\\n",
      "0  Andhra Pradesh         Anantapur  2014     134                       171   \n",
      "1  Andhra Pradesh          Chittoor  2014      84                       170   \n",
      "2  Andhra Pradesh          Cuddapah  2014      80                       162   \n",
      "3  Andhra Pradesh     East Godavari  2014      64                        84   \n",
      "4  Andhra Pradesh  Guntakal Railway  2014      14                         4   \n",
      "\n",
      "   Culpable Homicide not amounting to Murder  \\\n",
      "0                                          8   \n",
      "1                                          2   \n",
      "2                                          1   \n",
      "3                                          2   \n",
      "4                                          0   \n",
      "\n",
      "   Attempt to commit Culpable Homicide  Rape  Custodial Rape  \\\n",
      "0                                    0    35               0   \n",
      "1                                    0    32               0   \n",
      "2                                    0    28               0   \n",
      "3                                    0    85               0   \n",
      "4                                    0     0               0   \n",
      "\n",
      "   Custodial_Gang Rape             ...               \\\n",
      "0                    0             ...                \n",
      "1                    0             ...                \n",
      "2                    0             ...                \n",
      "3                    0             ...                \n",
      "4                    0             ...                \n",
      "\n",
      "   Offences promoting enmity between different groups  \\\n",
      "0                                                  0    \n",
      "1                                                  0    \n",
      "2                                                  0    \n",
      "3                                                  0    \n",
      "4                                                  0    \n",
      "\n",
      "   Promoting enmity between different groups  \\\n",
      "0                                          0   \n",
      "1                                          0   \n",
      "2                                          0   \n",
      "3                                          0   \n",
      "4                                          0   \n",
      "\n",
      "   Imputation, assertions prejudicial to national integration  Extortion  \\\n",
      "0                                                  0                   0   \n",
      "1                                                  0                  19   \n",
      "2                                                  0                   0   \n",
      "3                                                  0                  32   \n",
      "4                                                  0                   0   \n",
      "\n",
      "   Disclosure of Identity of Victims  Incidence of Rash Driving  \\\n",
      "0                                  0                       1038   \n",
      "1                                  0                        249   \n",
      "2                                  0                        948   \n",
      "3                                  0                         39   \n",
      "4                                  0                          1   \n",
      "\n",
      "   HumanTrafficking  Unnatural Offence  Other IPC crimes  \\\n",
      "0                 0                  0              3800   \n",
      "1                 0                  0              2567   \n",
      "2                 0                  0              2604   \n",
      "3                 0                  0              3791   \n",
      "4                 0                  0                37   \n",
      "\n",
      "   Total Cognizable IPC crimes  \n",
      "0                         8376  \n",
      "1                         5374  \n",
      "2                         5803  \n",
      "3                         7630  \n",
      "4                          490  \n",
      "\n",
      "[5 rows x 91 columns]\n"
     ]
    }
   ],
   "source": [
    "import pandas as pd\n",
    "import numpy as np\n",
    "data = pd.read_csv(\"crime_data.csv\")\n",
    "print(data.head())"
   ]
  },
  {
   "cell_type": "code",
   "execution_count": 10,
   "metadata": {
    "collapsed": false
   },
   "outputs": [],
   "source": [
    "data[\"Rape\"] = data[\"Rape\"] + data[\"Custodial Rape\"] + data[\"Custodial_Gang Rape\"]\n",
    "drop_tables = [\"Custodial_Gang Rape\", \"Custodial Rape\", \"Rape other than Custodial\"]\n",
    "data = data.drop(drop_tables, axis=1)"
   ]
  },
  {
   "cell_type": "code",
   "execution_count": 5,
   "metadata": {
    "collapsed": false
   },
   "outputs": [
    {
     "name": "stdout",
     "output_type": "stream",
     "text": [
      "       States/UTs          District  Year  Murder  Attempt to commit Murder  \\\n",
      "0  Andhra Pradesh         Anantapur  2014     134                       171   \n",
      "1  Andhra Pradesh          Chittoor  2014      84                       170   \n",
      "2  Andhra Pradesh          Cuddapah  2014      80                       162   \n",
      "3  Andhra Pradesh     East Godavari  2014      64                        84   \n",
      "4  Andhra Pradesh  Guntakal Railway  2014      14                         4   \n",
      "\n",
      "   Culpable Homicide not amounting to Murder  \\\n",
      "0                                          8   \n",
      "1                                          2   \n",
      "2                                          1   \n",
      "3                                          2   \n",
      "4                                          0   \n",
      "\n",
      "   Attempt to commit Culpable Homicide  Rape  Custodial_Other Rape  \\\n",
      "0                                    0    35                     0   \n",
      "1                                    0    32                     0   \n",
      "2                                    0    28                     0   \n",
      "3                                    0    85                     0   \n",
      "4                                    0     0                     0   \n",
      "\n",
      "   Rape other than Custodial             ...               \\\n",
      "0                         35             ...                \n",
      "1                         32             ...                \n",
      "2                         28             ...                \n",
      "3                         85             ...                \n",
      "4                          0             ...                \n",
      "\n",
      "   Offences promoting enmity between different groups  \\\n",
      "0                                                  0    \n",
      "1                                                  0    \n",
      "2                                                  0    \n",
      "3                                                  0    \n",
      "4                                                  0    \n",
      "\n",
      "   Promoting enmity between different groups  \\\n",
      "0                                          0   \n",
      "1                                          0   \n",
      "2                                          0   \n",
      "3                                          0   \n",
      "4                                          0   \n",
      "\n",
      "   Imputation, assertions prejudicial to national integration  Extortion  \\\n",
      "0                                                  0                   0   \n",
      "1                                                  0                  19   \n",
      "2                                                  0                   0   \n",
      "3                                                  0                  32   \n",
      "4                                                  0                   0   \n",
      "\n",
      "   Disclosure of Identity of Victims  Incidence of Rash Driving  \\\n",
      "0                                  0                       1038   \n",
      "1                                  0                        249   \n",
      "2                                  0                        948   \n",
      "3                                  0                         39   \n",
      "4                                  0                          1   \n",
      "\n",
      "   HumanTrafficking  Unnatural Offence  Other IPC crimes  \\\n",
      "0                 0                  0              3800   \n",
      "1                 0                  0              2567   \n",
      "2                 0                  0              2604   \n",
      "3                 0                  0              3791   \n",
      "4                 0                  0                37   \n",
      "\n",
      "   Total Cognizable IPC crimes  \n",
      "0                         8376  \n",
      "1                         5374  \n",
      "2                         5803  \n",
      "3                         7630  \n",
      "4                          490  \n",
      "\n",
      "[5 rows x 89 columns]\n"
     ]
    }
   ],
   "source": [
    "print(data.head())"
   ]
  },
  {
   "cell_type": "code",
   "execution_count": 17,
   "metadata": {
    "collapsed": false
   },
   "outputs": [
    {
     "name": "stdout",
     "output_type": "stream",
     "text": [
      "{'Andhra Pradesh': 2350, 'Arunachal Pradesh': 172, 'Assam': 2902, 'Bihar': 6806, 'Chhattisgarh': 1996, 'Goa': 68, 'Gujarat': 2248, 'Haryana': 2212, 'Himachal Pradesh': 260, 'Jammu & Kashmir': 312, 'Jharkhand': 3316, 'Karnataka': 3272, 'Kerala': 734, 'Madhya Pradesh': 4548, 'Maharashtra': 5340, 'Manipur': 192, 'Meghalaya': 318, 'Mizoram': 84, 'Nagaland': 116, 'Odisha': 2900, 'Punjab': 1534, 'Rajasthan': 3274, 'Sikkim': 24, 'Tamil Nadu': 3610, 'Telangana': 2616, 'Tripura': 280, 'Uttar Pradesh': 10300, 'Uttarakhand': 436, 'West Bengal': 4740, 'A&N Islands': 16, 'Chandigarh': 48, 'D&N Haveli': 8, 'Daman & Diu': 14, 'Delhi UT': 1172, 'Lakshadweep': 0, 'Puducherry': 50}\n"
     ]
    }
   ],
   "source": [
    "data_states = data[\"States/UTs\"].unique()\n",
    "murder_by_state={}\n",
    "for state in data_states:\n",
    "    data_state = data[data[\"States/UTs\"] == state]\n",
    "    total_murder = data_state[\"Murder\"].sum()\n",
    "    murder_by_state[state] = total_murder\n",
    "print(murder_by_state)"
   ]
  },
  {
   "cell_type": "code",
   "execution_count": 37,
   "metadata": {
    "collapsed": false
   },
   "outputs": [
    {
     "name": "stdout",
     "output_type": "stream",
     "text": [
      "States/UTs\n",
      "A&N Islands            3.162278\n",
      "Andhra Pradesh       246.113166\n",
      "Arunachal Pradesh     18.599377\n",
      "Assam                261.238661\n",
      "Bihar                488.862506\n",
      "Chandigarh             0.000000\n",
      "Chhattisgarh         179.626213\n",
      "D&N Haveli             0.000000\n",
      "Daman & Diu            3.214550\n",
      "Delhi UT             127.905146\n",
      "Goa                   14.094916\n",
      "Gujarat              170.149180\n",
      "Haryana              213.522466\n",
      "Himachal Pradesh      31.118055\n",
      "Jammu & Kashmir       27.581317\n",
      "Jharkhand            309.212652\n",
      "Karnataka            264.211567\n",
      "Kerala                75.021613\n",
      "Lakshadweep            0.000000\n",
      "Madhya Pradesh       299.304267\n",
      "Maharashtra          382.899893\n",
      "Manipur               26.699677\n",
      "Meghalaya             42.391037\n",
      "Mizoram               12.393547\n",
      "Nagaland              16.461157\n",
      "Odisha               232.851330\n",
      "Puducherry             9.712535\n",
      "Punjab               138.062446\n",
      "Rajasthan            244.705613\n",
      "Sikkim                 4.690416\n",
      "Tamil Nadu           270.446716\n",
      "Telangana            327.669359\n",
      "Tripura               40.797603\n",
      "Uttar Pradesh        580.897035\n",
      "Uttarakhand           58.125669\n",
      "West Bengal          414.968381\n",
      "Name: Murder, dtype: float64\n"
     ]
    }
   ],
   "source": [
    "new_table = data.pivot_table(index=\"States/UTs\", values=\"Murder\",aggfunc=np.std)\n",
    "print(new_table)"
   ]
  },
  {
   "cell_type": "code",
   "execution_count": 29,
   "metadata": {
    "collapsed": false
   },
   "outputs": [],
   "source": [
    "new_table[\"At Office premises\"] = new_table[\"At Office premises\"].apply(lambda x: x*100)"
   ]
  },
  {
   "cell_type": "code",
   "execution_count": 30,
   "metadata": {
    "collapsed": false
   },
   "outputs": [
    {
     "name": "stdout",
     "output_type": "stream",
     "text": [
      "                   Acid attack      Arson  \\\n",
      "States/UTs                                  \n",
      "A&N Islands           0.000000   2.500000   \n",
      "Andhra Pradesh        0.476190  42.857143   \n",
      "Arunachal Pradesh     0.000000   3.900000   \n",
      "Assam                 0.000000  51.241379   \n",
      "Bihar                 0.170213  22.000000   \n",
      "\n",
      "                   Assault on Women with intent to outrage her Modesty  \\\n",
      "States/UTs                                                               \n",
      "A&N Islands                                                20.500000     \n",
      "Andhra Pradesh                                            433.047619     \n",
      "Arunachal Pradesh                                          12.100000     \n",
      "Assam                                                     213.724138     \n",
      "Bihar                                                      24.340426     \n",
      "\n",
      "                   Assault or use of criminal force to women with intent to Disrobe  \\\n",
      "States/UTs                                                                            \n",
      "A&N Islands                                                 0.500000                  \n",
      "Andhra Pradesh                                             31.809524                  \n",
      "Arunachal Pradesh                                           0.000000                  \n",
      "Assam                                                      27.517241                  \n",
      "Bihar                                                       2.595745                  \n",
      "\n",
      "                   At Office premises  Attempt to Acid Attack  \\\n",
      "States/UTs                                                      \n",
      "A&N Islands                  0.000000                0.000000   \n",
      "Andhra Pradesh              28.571429                0.285714   \n",
      "Arunachal Pradesh            0.000000                0.000000   \n",
      "Assam                        0.000000                0.000000   \n",
      "Bihar                        0.000000                0.000000   \n",
      "\n",
      "                   Attempt to commit Culpable Homicide  \\\n",
      "States/UTs                                               \n",
      "A&N Islands                                   1.000000   \n",
      "Andhra Pradesh                                0.095238   \n",
      "Arunachal Pradesh                             0.000000   \n",
      "Assam                                         0.965517   \n",
      "Bihar                                        19.702128   \n",
      "\n",
      "                   Attempt to commit Murder  Attempt to commit Rape  \\\n",
      "States/UTs                                                            \n",
      "A&N Islands                        5.500000                0.000000   \n",
      "Andhra Pradesh                   146.666667               15.714286   \n",
      "Arunachal Pradesh                  4.800000                1.000000   \n",
      "Assam                             78.758621               15.655172   \n",
      "Bihar                            186.340426               20.595745   \n",
      "\n",
      "                   Auto Theft   ...    Sedition  Sexual Harassment   Stalking  \\\n",
      "States/UTs                      ...                                             \n",
      "A&N Islands          2.000000   ...    0.000000           9.000000   2.000000   \n",
      "Andhra Pradesh     432.380952   ...    0.095238         102.095238  48.000000   \n",
      "Arunachal Pradesh   15.800000   ...    0.000000           2.100000   0.100000   \n",
      "Assam              241.241379   ...    0.068966          31.586207   0.000000   \n",
      "Bihar              375.659574   ...    0.680851          11.531915   0.297872   \n",
      "\n",
      "                         Theft  Total Cognizable IPC crimes  \\\n",
      "States/UTs                                                    \n",
      "A&N Islands          22.500000                   373.000000   \n",
      "Andhra Pradesh     1487.333333                 10914.666667   \n",
      "Arunachal Pradesh    49.800000                   284.300000   \n",
      "Assam               878.413793                  6506.000000   \n",
      "Bihar               973.957447                  7557.234043   \n",
      "\n",
      "                   Unlawful Assembly  Unnatural Offence  \\\n",
      "States/UTs                                                \n",
      "A&N Islands                 0.500000           1.000000   \n",
      "Andhra Pradesh              5.619048           0.095238   \n",
      "Arunachal Pradesh           0.600000           0.000000   \n",
      "Assam                      57.517241           0.000000   \n",
      "Bihar                      15.319149           0.212766   \n",
      "\n",
      "                   Using forged or counterfeiting currency/Bank notes  \\\n",
      "States/UTs                                                              \n",
      "A&N Islands                                                 0.500000    \n",
      "Andhra Pradesh                                              9.714286    \n",
      "Arunachal Pradesh                                           0.000000    \n",
      "Assam                                                       0.068966    \n",
      "Bihar                                                       0.085106    \n",
      "\n",
      "                   Voyeurism    Year  \n",
      "States/UTs                            \n",
      "A&N Islands         0.500000  2014.0  \n",
      "Andhra Pradesh      6.761905  2014.0  \n",
      "Arunachal Pradesh   0.600000  2014.0  \n",
      "Assam               0.000000  2014.0  \n",
      "Bihar               0.170213  2014.0  \n",
      "\n",
      "[5 rows x 86 columns]\n"
     ]
    }
   ],
   "source": [
    "print(new_table.head())"
   ]
  },
  {
   "cell_type": "code",
   "execution_count": null,
   "metadata": {
    "collapsed": true
   },
   "outputs": [],
   "source": []
  }
 ],
 "metadata": {
  "kernelspec": {
   "display_name": "Python 3",
   "language": "python",
   "name": "python3"
  },
  "language_info": {
   "codemirror_mode": {
    "name": "ipython",
    "version": 3
   },
   "file_extension": ".py",
   "mimetype": "text/x-python",
   "name": "python",
   "nbconvert_exporter": "python",
   "pygments_lexer": "ipython3",
   "version": "3.6.0"
  }
 },
 "nbformat": 4,
 "nbformat_minor": 2
}
